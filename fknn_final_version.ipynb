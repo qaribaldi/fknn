{
  "nbformat": 4,
  "nbformat_minor": 0,
  "metadata": {
    "colab": {
      "provenance": [],
      "include_colab_link": true
    },
    "kernelspec": {
      "name": "python3",
      "display_name": "Python 3"
    },
    "language_info": {
      "name": "python"
    }
  },
  "cells": [
    {
      "cell_type": "markdown",
      "metadata": {
        "id": "view-in-github",
        "colab_type": "text"
      },
      "source": [
        "<a href=\"https://colab.research.google.com/github/qaribaldi/fknn/blob/main/fknn_final_version.ipynb\" target=\"_parent\"><img src=\"https://colab.research.google.com/assets/colab-badge.svg\" alt=\"Open In Colab\"/></a>"
      ]
    },
    {
      "cell_type": "code",
      "source": [
        "import numpy as np\n",
        "import pandas as pd\n",
        "from sklearn.preprocessing import MinMaxScaler\n",
        "from sklearn.metrics import accuracy_score, precision_score, recall_score, f1_score"
      ],
      "metadata": {
        "id": "HvB_7biLali6"
      },
      "execution_count": null,
      "outputs": []
    },
    {
      "cell_type": "code",
      "source": [
        "# Membaca data\n",
        "df = pd.read_csv('titanic.csv')\n",
        "\n",
        "# Menampilkan 5 baris pertama\n",
        "print(df.head())"
      ],
      "metadata": {
        "colab": {
          "base_uri": "https://localhost:8080/"
        },
        "id": "8Q9BgVaHavUc",
        "outputId": "b8d6777c-40b2-4a37-d16d-86bb3f44e65b"
      },
      "execution_count": null,
      "outputs": [
        {
          "output_type": "stream",
          "name": "stdout",
          "text": [
            "   Pclass     Sex   Age  SibSp  Parch     Fare Embarked  Survived\n",
            "0       3    male  34.5      0      0   7.8292        Q         0\n",
            "1       3  female  47.0      1      0   7.0000        S         1\n",
            "2       2    male  62.0      0      0   9.6875        Q         0\n",
            "3       3    male  27.0      0      0   8.6625        S         0\n",
            "4       3  female  22.0      1      1  12.2875        S         1\n"
          ]
        }
      ]
    },
    {
      "cell_type": "code",
      "source": [
        "# Normalisasi dan Encoding\n",
        "df = df[['Pclass', 'Sex', 'Age', 'SibSp', 'Parch', 'Fare', 'Embarked', 'Survived']].dropna()\n",
        "df['Sex'] = df['Sex'].map({'male': 0, 'female': 1})\n",
        "df['Embarked'] = df['Embarked'].map({'C': 0, 'Q': 1, 'S': 2})\n",
        "scaler = MinMaxScaler()\n",
        "df[['Age', 'Fare']] = scaler.fit_transform(df[['Age', 'Fare']])\n",
        "\n",
        "# Menampilkan hasil\n",
        "print(df.head())"
      ],
      "metadata": {
        "colab": {
          "base_uri": "https://localhost:8080/"
        },
        "id": "LJayxQ2Vaywh",
        "outputId": "ae88f9b7-1ee0-457e-ca03-2d7e5ead8cad"
      },
      "execution_count": null,
      "outputs": [
        {
          "output_type": "stream",
          "name": "stdout",
          "text": [
            "   Pclass  Sex       Age  SibSp  Parch      Fare  Embarked  Survived\n",
            "0       3  NaN  0.435065      0      0  0.017929       NaN         0\n",
            "1       3  NaN  0.597403      1      0  0.014737       NaN         1\n",
            "2       2  NaN  0.792208      0      0  0.025081       NaN         0\n",
            "3       3  NaN  0.337662      0      0  0.021136       NaN         0\n",
            "4       3  NaN  0.272727      1      1  0.035087       NaN         1\n"
          ]
        }
      ]
    },
    {
      "cell_type": "code",
      "source": [
        "# Pisahkan fitur (X) dan label (y)\n",
        "X = df.drop('Survived', axis=1).values\n",
        "y = df['Survived'].values\n",
        "feature_names = df.drop('Survived', axis=1).columns"
      ],
      "metadata": {
        "id": "8DMcB7Vaa4q3"
      },
      "execution_count": null,
      "outputs": []
    },
    {
      "cell_type": "code",
      "source": [
        "# Membagi data latih dan data uji\n",
        "X_train, X_test = X[:100], X[100:150]\n",
        "y_train, y_test = y[:100], y[100:150]"
      ],
      "metadata": {
        "id": "AL5GslYQa6io"
      },
      "execution_count": null,
      "outputs": []
    },
    {
      "cell_type": "code",
      "source": [
        "# Hitung Korelasi Pearson\n",
        "correlations = {feature: np.corrcoef(X[:, i], y)[0, 1] for i, feature in enumerate(feature_names)}\n",
        "threshold = np.mean(list(correlations.values()))  # Threshold rata-rata korelasi\n",
        "sorted_features = sorted(correlations.items(), key=lambda x: abs(x[1]))"
      ],
      "metadata": {
        "id": "wVG8hMWTa-b2"
      },
      "execution_count": null,
      "outputs": []
    },
    {
      "cell_type": "code",
      "source": [
        "# Tampilkan nilai Korelasi Pearson per fitur\n",
        "print(\"Korelasi Pearson per fitur terhadap target:\")\n",
        "for feature, corr in sorted_features:\n",
        "    print(f\"{feature}: {corr:.4f}\")\n",
        "print(f\"\\nThreshold rata-rata korelasi: {threshold:.4f}\\n\")"
      ],
      "metadata": {
        "colab": {
          "base_uri": "https://localhost:8080/"
        },
        "id": "d4C8oDlsbAIa",
        "outputId": "fd4da966-c971-41cb-ed01-2596d829af68"
      },
      "execution_count": null,
      "outputs": [
        {
          "output_type": "stream",
          "name": "stdout",
          "text": [
            "Korelasi Pearson per fitur terhadap target:\n",
            "Age: 0.0067\n",
            "Embarked: 0.0253\n",
            "Pclass: -0.0761\n",
            "SibSp: 0.1575\n",
            "Parch: 0.1820\n",
            "Fare: 0.1867\n",
            "Sex: 1.0000\n",
            "\n",
            "Threshold rata-rata korelasi: 0.2117\n",
            "\n"
          ]
        }
      ]
    },
    {
      "cell_type": "code",
      "source": [
        "# Fungsi untuk menghitung Euclidean Distance\n",
        "def euclidean_distance(x1, x2):\n",
        "    return np.sqrt(np.sum((x1 - x2) ** 2))"
      ],
      "metadata": {
        "id": "vvZpCL_hbCmU"
      },
      "execution_count": null,
      "outputs": []
    },
    {
      "cell_type": "code",
      "source": [
        "def fuzzy_knn(train_X, train_y, test_X, k=5, m=2):\n",
        "    predictions = []\n",
        "\n",
        "    for test_row in test_X:\n",
        "        distances = []\n",
        "\n",
        "        # Hitung jarak Euclidean ke semua data latih\n",
        "        for i, train_row in enumerate(train_X):\n",
        "            dist = euclidean_distance(test_row, train_row)\n",
        "            distances.append((dist, train_y[i]))\n",
        "\n",
        "        # Urutkan berdasarkan jarak dan ambil k tetangga terdekat\n",
        "        distances.sort(key=lambda x: x[0])\n",
        "        neighbors = distances[:k]\n",
        "\n",
        "        # Menghitung total jarak antar tetangga\n",
        "        total_distance = sum(d[0] for d in neighbors if d[0] != 0) + 1e-9  # Hindari pembagian nol\n",
        "\n",
        "        # Menghitung total jarak ke setiap kelas\n",
        "        class_weights = {0: 0, 1: 0}\n",
        "        for d, cls in neighbors:\n",
        "            # Tentukan bobot dengan menghindari pembagian oleh 0\n",
        "            if d == 0:\n",
        "                weight = 1e-9  # Menggunakan bobot kecil jika jarak 0\n",
        "            else:\n",
        "                if m == 1:\n",
        "                    weight = 1 / d  # Jika m == 1, gunakan rumus sederhana\n",
        "                else:\n",
        "                    weight = (1 / (d ** (2 / (m - 1))))  # Bobot berdasarkan jarak\n",
        "\n",
        "            class_weights[cls] += weight\n",
        "\n",
        "        # Menentukan kelas prediksi dengan nilai keanggotaan terbesar\n",
        "        pred_class = max(class_weights, key=class_weights.get)\n",
        "        predictions.append(pred_class)\n",
        "\n",
        "    return predictions"
      ],
      "metadata": {
        "id": "Hp03FGL0bJN3"
      },
      "execution_count": null,
      "outputs": []
    },
    {
      "cell_type": "code",
      "source": [
        "# Fungsi Evaluasi\n",
        "def evaluate(y_true, y_pred):\n",
        "    tp = np.sum((y_true == 1) & (y_pred == 1))\n",
        "    tn = np.sum((y_true == 0) & (y_pred == 0))\n",
        "    fp = np.sum((y_true == 0) & (y_pred == 1))\n",
        "    fn = np.sum((y_true == 1) & (y_pred == 0))\n",
        "    accuracy = (tp + tn) / len(y_true)\n",
        "    precision = tp / (tp + fp) if (tp + fp) > 0 else 0\n",
        "    recall = tp / (tp + fn) if (tp + fn) > 0 else 0\n",
        "    f1 = (2 * precision * recall) / (precision + recall) if (precision + recall) > 0 else 0\n",
        "    return accuracy, precision, recall, f1\n",
        "\n",
        "# Menyimpan hasil terbaik\n",
        "best_accuracy = 0\n",
        "best_params = \"\"\n",
        "best_evaluation = \"\"\n",
        "\n",
        "# Proses Perhitungan\n",
        "results = []\n",
        "m_values = [1, 2, 3]  # Daftar nilai m\n",
        "k_values = [1, 2, 3]  # Daftar nilai k\n",
        "\n",
        "for k in k_values:\n",
        "    for m in m_values:\n",
        "        evaluations = [f\"Evaluasi dengan k = {k}, m = {m}\"]\n",
        "\n",
        "        # Gunakan semua fitur dulu\n",
        "        y_pred = fuzzy_knn(X_train, y_train, X_test, k=k, m=m)\n",
        "        acc, prec, rec, f1 = evaluate(y_test, np.array(y_pred))\n",
        "        evaluations.append(f\"Semua Fitur - Akurasi: {acc:.2%}, Precision: {prec:.2%}, Recall: {rec:.2%}, F1-Score: {f1:.2%}\")\n",
        "        results.append(f\"k={k}, m={m}, Semua Fitur: Akurasi={acc:.2%}, Precision={prec:.2%}, Recall={rec:.2%}, F1-Score={f1:.2%}\")\n",
        "\n",
        "        # Cek apakah ini hasil terbaik\n",
        "        if acc > best_accuracy:\n",
        "            best_accuracy = acc\n",
        "            best_params = f\"k={k}, m={m}, Semua Fitur\"\n",
        "            best_evaluation = evaluations[-1]\n",
        "\n",
        "        # Hapus satu per satu fitur berdasarkan urutan korelasi\n",
        "        for feature, _ in sorted_features:\n",
        "            remaining_features = [f for f in feature_names if f != feature]\n",
        "            X_reduced = df[remaining_features].values\n",
        "            y_pred = fuzzy_knn(X_reduced[:100], y[:100], X_reduced[100:150], k=k, m=m)\n",
        "            acc, prec, rec, f1 = evaluate(y[100:150], np.array(y_pred))\n",
        "            evaluations.append(f\"Tanpa fitur {feature} - Akurasi: {acc:.2%}, Precision: {prec:.2%}, Recall: {rec:.2%}, F1-Score: {f1:.2%}\")\n",
        "            results.append(f\"k={k}, m={m}, Tanpa fitur {feature}: Akurasi={acc:.2%}, Precision={prec:.2%}, Recall={rec:.2%}, F1-Score={f1:.2%}\")\n",
        "\n",
        "            # Cek apakah ini hasil terbaik\n",
        "            if acc > best_accuracy:\n",
        "                best_accuracy = acc\n",
        "                best_params = f\"k={k}, m={m}, Tanpa fitur {feature}\"\n",
        "                best_evaluation = evaluations[-1]\n",
        "\n",
        "        print(\"\\n\".join(evaluations))\n",
        "        print(\"\\n\")"
      ],
      "metadata": {
        "colab": {
          "base_uri": "https://localhost:8080/"
        },
        "id": "pSUoSrecbOo0",
        "outputId": "010b195f-cd66-4f22-ff39-c9bb622d412c"
      },
      "execution_count": null,
      "outputs": [
        {
          "output_type": "stream",
          "name": "stdout",
          "text": [
            "Evaluasi dengan k = 1, m = 1\n",
            "Semua Fitur - Akurasi: 88.00%, Precision: 85.71%, Recall: 75.00%, F1-Score: 80.00%\n",
            "Tanpa fitur Age - Akurasi: 84.00%, Precision: 83.33%, Recall: 62.50%, F1-Score: 71.43%\n",
            "Tanpa fitur Embarked - Akurasi: 94.00%, Precision: 88.24%, Recall: 93.75%, F1-Score: 90.91%\n",
            "Tanpa fitur Pclass - Akurasi: 94.00%, Precision: 88.24%, Recall: 93.75%, F1-Score: 90.91%\n",
            "Tanpa fitur SibSp - Akurasi: 96.00%, Precision: 88.89%, Recall: 100.00%, F1-Score: 94.12%\n",
            "Tanpa fitur Parch - Akurasi: 98.00%, Precision: 100.00%, Recall: 93.75%, F1-Score: 96.77%\n",
            "Tanpa fitur Fare - Akurasi: 92.00%, Precision: 87.50%, Recall: 87.50%, F1-Score: 87.50%\n",
            "Tanpa fitur Sex - Akurasi: 54.00%, Precision: 26.67%, Recall: 25.00%, F1-Score: 25.81%\n",
            "\n",
            "\n",
            "Evaluasi dengan k = 1, m = 2\n",
            "Semua Fitur - Akurasi: 88.00%, Precision: 85.71%, Recall: 75.00%, F1-Score: 80.00%\n",
            "Tanpa fitur Age - Akurasi: 84.00%, Precision: 83.33%, Recall: 62.50%, F1-Score: 71.43%\n",
            "Tanpa fitur Embarked - Akurasi: 94.00%, Precision: 88.24%, Recall: 93.75%, F1-Score: 90.91%\n",
            "Tanpa fitur Pclass - Akurasi: 94.00%, Precision: 88.24%, Recall: 93.75%, F1-Score: 90.91%\n",
            "Tanpa fitur SibSp - Akurasi: 96.00%, Precision: 88.89%, Recall: 100.00%, F1-Score: 94.12%\n",
            "Tanpa fitur Parch - Akurasi: 98.00%, Precision: 100.00%, Recall: 93.75%, F1-Score: 96.77%\n",
            "Tanpa fitur Fare - Akurasi: 92.00%, Precision: 87.50%, Recall: 87.50%, F1-Score: 87.50%\n",
            "Tanpa fitur Sex - Akurasi: 54.00%, Precision: 26.67%, Recall: 25.00%, F1-Score: 25.81%\n",
            "\n",
            "\n",
            "Evaluasi dengan k = 1, m = 3\n",
            "Semua Fitur - Akurasi: 88.00%, Precision: 85.71%, Recall: 75.00%, F1-Score: 80.00%\n",
            "Tanpa fitur Age - Akurasi: 84.00%, Precision: 83.33%, Recall: 62.50%, F1-Score: 71.43%\n",
            "Tanpa fitur Embarked - Akurasi: 94.00%, Precision: 88.24%, Recall: 93.75%, F1-Score: 90.91%\n",
            "Tanpa fitur Pclass - Akurasi: 94.00%, Precision: 88.24%, Recall: 93.75%, F1-Score: 90.91%\n",
            "Tanpa fitur SibSp - Akurasi: 96.00%, Precision: 88.89%, Recall: 100.00%, F1-Score: 94.12%\n",
            "Tanpa fitur Parch - Akurasi: 98.00%, Precision: 100.00%, Recall: 93.75%, F1-Score: 96.77%\n",
            "Tanpa fitur Fare - Akurasi: 92.00%, Precision: 87.50%, Recall: 87.50%, F1-Score: 87.50%\n",
            "Tanpa fitur Sex - Akurasi: 54.00%, Precision: 26.67%, Recall: 25.00%, F1-Score: 25.81%\n",
            "\n",
            "\n",
            "Evaluasi dengan k = 2, m = 1\n",
            "Semua Fitur - Akurasi: 88.00%, Precision: 85.71%, Recall: 75.00%, F1-Score: 80.00%\n",
            "Tanpa fitur Age - Akurasi: 84.00%, Precision: 83.33%, Recall: 62.50%, F1-Score: 71.43%\n",
            "Tanpa fitur Embarked - Akurasi: 94.00%, Precision: 88.24%, Recall: 93.75%, F1-Score: 90.91%\n",
            "Tanpa fitur Pclass - Akurasi: 94.00%, Precision: 88.24%, Recall: 93.75%, F1-Score: 90.91%\n",
            "Tanpa fitur SibSp - Akurasi: 96.00%, Precision: 88.89%, Recall: 100.00%, F1-Score: 94.12%\n",
            "Tanpa fitur Parch - Akurasi: 98.00%, Precision: 100.00%, Recall: 93.75%, F1-Score: 96.77%\n",
            "Tanpa fitur Fare - Akurasi: 92.00%, Precision: 87.50%, Recall: 87.50%, F1-Score: 87.50%\n",
            "Tanpa fitur Sex - Akurasi: 58.00%, Precision: 27.27%, Recall: 18.75%, F1-Score: 22.22%\n",
            "\n",
            "\n",
            "Evaluasi dengan k = 2, m = 2\n",
            "Semua Fitur - Akurasi: 88.00%, Precision: 85.71%, Recall: 75.00%, F1-Score: 80.00%\n",
            "Tanpa fitur Age - Akurasi: 84.00%, Precision: 83.33%, Recall: 62.50%, F1-Score: 71.43%\n",
            "Tanpa fitur Embarked - Akurasi: 94.00%, Precision: 88.24%, Recall: 93.75%, F1-Score: 90.91%\n",
            "Tanpa fitur Pclass - Akurasi: 94.00%, Precision: 88.24%, Recall: 93.75%, F1-Score: 90.91%\n",
            "Tanpa fitur SibSp - Akurasi: 96.00%, Precision: 88.89%, Recall: 100.00%, F1-Score: 94.12%\n",
            "Tanpa fitur Parch - Akurasi: 98.00%, Precision: 100.00%, Recall: 93.75%, F1-Score: 96.77%\n",
            "Tanpa fitur Fare - Akurasi: 92.00%, Precision: 87.50%, Recall: 87.50%, F1-Score: 87.50%\n",
            "Tanpa fitur Sex - Akurasi: 58.00%, Precision: 27.27%, Recall: 18.75%, F1-Score: 22.22%\n",
            "\n",
            "\n",
            "Evaluasi dengan k = 2, m = 3\n",
            "Semua Fitur - Akurasi: 88.00%, Precision: 85.71%, Recall: 75.00%, F1-Score: 80.00%\n",
            "Tanpa fitur Age - Akurasi: 84.00%, Precision: 83.33%, Recall: 62.50%, F1-Score: 71.43%\n",
            "Tanpa fitur Embarked - Akurasi: 94.00%, Precision: 88.24%, Recall: 93.75%, F1-Score: 90.91%\n",
            "Tanpa fitur Pclass - Akurasi: 94.00%, Precision: 88.24%, Recall: 93.75%, F1-Score: 90.91%\n",
            "Tanpa fitur SibSp - Akurasi: 96.00%, Precision: 88.89%, Recall: 100.00%, F1-Score: 94.12%\n",
            "Tanpa fitur Parch - Akurasi: 98.00%, Precision: 100.00%, Recall: 93.75%, F1-Score: 96.77%\n",
            "Tanpa fitur Fare - Akurasi: 92.00%, Precision: 87.50%, Recall: 87.50%, F1-Score: 87.50%\n",
            "Tanpa fitur Sex - Akurasi: 58.00%, Precision: 27.27%, Recall: 18.75%, F1-Score: 22.22%\n",
            "\n",
            "\n",
            "Evaluasi dengan k = 3, m = 1\n",
            "Semua Fitur - Akurasi: 94.00%, Precision: 93.33%, Recall: 87.50%, F1-Score: 90.32%\n",
            "Tanpa fitur Age - Akurasi: 90.00%, Precision: 92.31%, Recall: 75.00%, F1-Score: 82.76%\n",
            "Tanpa fitur Embarked - Akurasi: 96.00%, Precision: 88.89%, Recall: 100.00%, F1-Score: 94.12%\n",
            "Tanpa fitur Pclass - Akurasi: 98.00%, Precision: 94.12%, Recall: 100.00%, F1-Score: 96.97%\n",
            "Tanpa fitur SibSp - Akurasi: 96.00%, Precision: 93.75%, Recall: 93.75%, F1-Score: 93.75%\n",
            "Tanpa fitur Parch - Akurasi: 98.00%, Precision: 100.00%, Recall: 93.75%, F1-Score: 96.77%\n",
            "Tanpa fitur Fare - Akurasi: 98.00%, Precision: 94.12%, Recall: 100.00%, F1-Score: 96.97%\n",
            "Tanpa fitur Sex - Akurasi: 60.00%, Precision: 35.71%, Recall: 31.25%, F1-Score: 33.33%\n",
            "\n",
            "\n",
            "Evaluasi dengan k = 3, m = 2\n",
            "Semua Fitur - Akurasi: 90.00%, Precision: 86.67%, Recall: 81.25%, F1-Score: 83.87%\n",
            "Tanpa fitur Age - Akurasi: 86.00%, Precision: 84.62%, Recall: 68.75%, F1-Score: 75.86%\n",
            "Tanpa fitur Embarked - Akurasi: 94.00%, Precision: 88.24%, Recall: 93.75%, F1-Score: 90.91%\n",
            "Tanpa fitur Pclass - Akurasi: 96.00%, Precision: 88.89%, Recall: 100.00%, F1-Score: 94.12%\n",
            "Tanpa fitur SibSp - Akurasi: 94.00%, Precision: 88.24%, Recall: 93.75%, F1-Score: 90.91%\n",
            "Tanpa fitur Parch - Akurasi: 96.00%, Precision: 100.00%, Recall: 87.50%, F1-Score: 93.33%\n",
            "Tanpa fitur Fare - Akurasi: 94.00%, Precision: 88.24%, Recall: 93.75%, F1-Score: 90.91%\n",
            "Tanpa fitur Sex - Akurasi: 58.00%, Precision: 30.77%, Recall: 25.00%, F1-Score: 27.59%\n",
            "\n",
            "\n",
            "Evaluasi dengan k = 3, m = 3\n",
            "Semua Fitur - Akurasi: 94.00%, Precision: 93.33%, Recall: 87.50%, F1-Score: 90.32%\n",
            "Tanpa fitur Age - Akurasi: 90.00%, Precision: 92.31%, Recall: 75.00%, F1-Score: 82.76%\n",
            "Tanpa fitur Embarked - Akurasi: 96.00%, Precision: 88.89%, Recall: 100.00%, F1-Score: 94.12%\n",
            "Tanpa fitur Pclass - Akurasi: 98.00%, Precision: 94.12%, Recall: 100.00%, F1-Score: 96.97%\n",
            "Tanpa fitur SibSp - Akurasi: 96.00%, Precision: 93.75%, Recall: 93.75%, F1-Score: 93.75%\n",
            "Tanpa fitur Parch - Akurasi: 98.00%, Precision: 100.00%, Recall: 93.75%, F1-Score: 96.77%\n",
            "Tanpa fitur Fare - Akurasi: 98.00%, Precision: 94.12%, Recall: 100.00%, F1-Score: 96.97%\n",
            "Tanpa fitur Sex - Akurasi: 60.00%, Precision: 35.71%, Recall: 31.25%, F1-Score: 33.33%\n",
            "\n",
            "\n"
          ]
        }
      ]
    },
    {
      "cell_type": "code",
      "source": [
        "# Menampilkan hasil terbaik\n",
        "print(\"\\n=== Hasil Terbaik ===\")\n",
        "print(f\"Hasil terbaik: {best_params}\")\n",
        "print(f\"Evaluasi terbaik: {best_evaluation}\")"
      ],
      "metadata": {
        "colab": {
          "base_uri": "https://localhost:8080/"
        },
        "id": "mGiO3_Wvba9W",
        "outputId": "3b01ebe6-e4a0-4836-f8f6-9bb4803877d5"
      },
      "execution_count": null,
      "outputs": [
        {
          "output_type": "stream",
          "name": "stdout",
          "text": [
            "\n",
            "=== Hasil Terbaik ===\n",
            "Hasil terbaik: k=1, m=1, Tanpa fitur Parch\n",
            "Evaluasi terbaik: Tanpa fitur Parch - Akurasi: 98.00%, Precision: 100.00%, Recall: 93.75%, F1-Score: 96.77%\n"
          ]
        }
      ]
    },
    {
      "cell_type": "code",
      "source": [],
      "metadata": {
        "id": "CM1Kfz6SbhKi"
      },
      "execution_count": null,
      "outputs": []
    }
  ]
}